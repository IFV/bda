{
 "cells": [
  {
   "cell_type": "markdown",
   "metadata": {},
   "source": [
    "# Exporting your notebooks"
   ]
  },
  {
   "cell_type": "markdown",
   "metadata": {},
   "source": [
    "### Purpose\n",
    "\n",
    "If you want to move your work to another Jupyter server this notebook will help you compress all your notebooks into one file. You can then download the compressed file, upload it to the other Jupyter server and uncompress it.\n",
    "\n",
    "If you just want to move a single notebook simply download it in .ipynb format and upload it to the other Jupyter server."
   ]
  },
  {
   "cell_type": "markdown",
   "metadata": {},
   "source": [
    "### 1. Compress modules into one file\n",
    "\n",
    "Run the command in the following cell to create a compressed file containing modules 1 to 8. If you only want to export certain modules remove the ones you do not want to export from the cell bellow."
   ]
  },
  {
   "cell_type": "code",
   "execution_count": null,
   "metadata": {},
   "outputs": [],
   "source": [
    "!tar cvfz ../modules.tar.gz \\\n",
    "    ../module_1 \\\n",
    "    ../module_2 \\\n",
    "    ../module_3 \\\n",
    "    ../module_4 \\\n",
    "    ../module_5 \\\n",
    "    ../module_6 \\\n",
    "    ../module_7 \\\n",
    "    ../module_8 \\"
   ]
  },
  {
   "cell_type": "markdown",
   "metadata": {
    "collapsed": true
   },
   "source": [
    "### 2. Download the compressed file\n",
    "\n",
    "Click the link bellow to download the file that was created in the previous step.\n",
    "\n",
    "[modules.tar.gz](../modules.tar.gz)"
   ]
  },
  {
   "cell_type": "markdown",
   "metadata": {
    "collapsed": true
   },
   "source": [
    "### 3. Import notebooks\n",
    "\n",
    "Log in to your other Jupyter server and navigate to utils/ImportModules.ipynb. Follow the instructions there to complete the process.\n",
    "\n",
    "If you do not have utils/ImportModules.ipynb on the other Jupyter server save it as a .ipynb file from this server and upload it to a new folder called utils on the other server."
   ]
  },
  {
   "cell_type": "code",
   "execution_count": null,
   "metadata": {
    "collapsed": true
   },
   "outputs": [],
   "source": []
  }
 ],
 "metadata": {
  "kernelspec": {
   "display_name": "Python [default]",
   "language": "python",
   "name": "python3"
  },
  "language_info": {
   "codemirror_mode": {
    "name": "ipython",
    "version": 3
   },
   "file_extension": ".py",
   "mimetype": "text/x-python",
   "name": "python",
   "nbconvert_exporter": "python",
   "pygments_lexer": "ipython3",
   "version": "3.6.2"
  }
 },
 "nbformat": 4,
 "nbformat_minor": 1
}
