{
 "cells": [
  {
   "cell_type": "markdown",
   "metadata": {
    "collapsed": true
   },
   "source": [
    "# Importing your notebooks"
   ]
  },
  {
   "cell_type": "markdown",
   "metadata": {},
   "source": [
    "### Purpose\n",
    "\n",
    "If you want to move your work to this Jupyter server from another Jupyter server this notebook will help you uncompress the file created in the module_0/M0_NB3_ExportModules."
   ]
  },
  {
   "cell_type": "markdown",
   "metadata": {},
   "source": [
    "### 1. Upload the compressed file\n",
    "\n",
    "1.1 Navigate to the dashboard by clicking the Jupyter icon in the top left corner of the page.\n",
    "\n",
    "1.2 Click the Upload button in the top right corner of the page and select the compressed file you downloaded from the other Jupyter server.\n",
    "\n",
    "1.3 Click Open to close the dialog window. The file should now be listed on the dashboard. Click the Upload button next to the file."
   ]
  },
  {
   "cell_type": "markdown",
   "metadata": {},
   "source": [
    "### 2. Uncompress the file\n",
    "\n",
    "Run the command in the following cell to uncompress the file you just uploaded.\n",
    "\n",
    "***Warning this will overwrite any files in modules 1 to 8 on this Jupyter server that you have not renamed.***"
   ]
  },
  {
   "cell_type": "code",
   "execution_count": null,
   "metadata": {
    "collapsed": false
   },
   "outputs": [],
   "source": [
    "!tar xvfz ../modules.tar.gz --directory ../"
   ]
  },
  {
   "cell_type": "markdown",
   "metadata": {},
   "source": [
    "### 3. Import complete\n",
    "\n",
    "You have now finished moving your notebooks and can continue working on them on this Jupyter server."
   ]
  },
  {
   "cell_type": "code",
   "execution_count": null,
   "metadata": {
    "collapsed": true
   },
   "outputs": [],
   "source": []
  }
 ],
 "metadata": {
  "kernelspec": {
   "display_name": "Python [Root]",
   "language": "python",
   "name": "Python [Root]"
  },
  "language_info": {
   "codemirror_mode": {
    "name": "ipython",
    "version": 2
   },
   "file_extension": ".py",
   "mimetype": "text/x-python",
   "name": "python",
   "nbconvert_exporter": "python",
   "pygments_lexer": "ipython2",
   "version": "2.7.12"
  }
 },
 "nbformat": 4,
 "nbformat_minor": 0
}
